{
 "cells": [
  {
   "cell_type": "markdown",
   "id": "dd17daa7",
   "metadata": {},
   "source": [
    "# Analysis of Patski data"
   ]
  },
  {
   "cell_type": "markdown",
   "id": "83df935e",
   "metadata": {},
   "source": [
    "$\\newcommand{\\RR}{\\mathbb{R}}$\n",
    "This notebook contains coded for the analysis of the Patski X chromosome dataset (Section 5.2 in the paper)."
   ]
  },
  {
   "cell_type": "code",
   "execution_count": 52,
   "id": "84408630",
   "metadata": {},
   "outputs": [],
   "source": [
    "using HomotopyContinuation, LinearAlgebra, Random, MATLAB, NBInclude"
   ]
  },
  {
   "cell_type": "code",
   "execution_count": 53,
   "id": "fde2db2d",
   "metadata": {},
   "outputs": [],
   "source": [
    "Random.seed!(123)\n",
    "mat\"rng(123,'twister')\""
   ]
  },
  {
   "cell_type": "markdown",
   "id": "bc234500",
   "metadata": {},
   "source": [
    "## Load data"
   ]
  },
  {
   "cell_type": "markdown",
   "id": "40ad2e15",
   "metadata": {},
   "source": [
    "Load Matlab file with contact count matrices."
   ]
  },
  {
   "cell_type": "code",
   "execution_count": 54,
   "id": "1c1ad8f2",
   "metadata": {},
   "outputs": [],
   "source": [
    "mat\"\"\"\n",
    "\n",
    "load('patski_contact_count_matrices.mat')\n",
    "n = size(A,1);\n",
    "\n",
    "\"\"\""
   ]
  },
  {
   "cell_type": "markdown",
   "id": "25bb0794",
   "metadata": {},
   "source": [
    "## Filtering"
   ]
  },
  {
   "cell_type": "markdown",
   "id": "2193abf5",
   "metadata": {},
   "source": [
    "Exclude loci with low total contact counts."
   ]
  },
  {
   "cell_type": "code",
   "execution_count": 55,
   "id": "e7bf2bb2",
   "metadata": {},
   "outputs": [],
   "source": [
    "mat\"\"\"\n",
    "\n",
    "total_ambig_contacts = nansum(A,2);\n",
    "total_pa_contacts = nansum(P,1)'+nansum(P(1:n,:),2)+nansum(P(n+(1:n),:),2);\n",
    "total_ua_contacts = nansum(U(1:n,:),2)+nansum(U((1:n)+n,:),2);\n",
    "\n",
    "total_contacts = total_ambig_contacts+total_pa_contacts+total_ua_contacts;\n",
    "\n",
    "[sorted_total_contacts,indices_sorted] = sort(total_contacts);\n",
    "\n",
    "plot(sorted_total_contacts)\n",
    "title(\"The i-th smallest total contact count\")\n",
    "xlabel(\"i\")\n",
    "\n",
    "set(gcf,'renderer','Painters')\n",
    "print(gcf,'-depsc','total_contacts')\n",
    "\n",
    "\"\"\""
   ]
  },
  {
   "cell_type": "code",
   "execution_count": 56,
   "id": "a0394b07",
   "metadata": {},
   "outputs": [],
   "source": [
    "mat\"\"\"\n",
    "\n",
    "ratios = zeros(1,n-1);\n",
    "\n",
    "for i = 1:n-1\n",
    "    if sorted_total_contacts(i)==0\n",
    "        ratios(i)=NaN;\n",
    "    else\n",
    "        ratios(i)=sorted_total_contacts(i+1)/sorted_total_contacts(i);\n",
    "    end\n",
    "end\n",
    "\n",
    "plot(ratios)\n",
    "title('Ratio between the i-th and (i+1)-th smallest total contact count')\n",
    "xlabel('i')\n",
    "\n",
    "set(gcf,'renderer','Painters')\n",
    "print(gcf,'-depsc','total_contact_ratio')\n",
    "\n",
    "\"\"\""
   ]
  },
  {
   "cell_type": "code",
   "execution_count": 60,
   "id": "72bbac35",
   "metadata": {},
   "outputs": [],
   "source": [
    "mat\"\"\"\n",
    "\n",
    "number_to_remove = 47;\n",
    "\n",
    "removed_pairs = sort(indices_sorted(1:number_to_remove));\n",
    "filtered_pairs = setdiff(1:n,removed_pairs);\n",
    "\n",
    "n_filtered = length(filtered_pairs);\n",
    "\n",
    "plot(total_contacts)\n",
    "hold on\n",
    "plot(removed_pairs,total_contacts(removed_pairs),'*k')\n",
    "hold off\n",
    "title('Total contacts of the i-th locus')\n",
    "xlabel('i')\n",
    "\n",
    "\"\"\""
   ]
  },
  {
   "cell_type": "code",
   "execution_count": 61,
   "id": "690e85cf",
   "metadata": {},
   "outputs": [],
   "source": [
    "mat\"\"\"\n",
    "\n",
    "U_filtered = U([filtered_pairs,filtered_pairs+n],[filtered_pairs,filtered_pairs+n]);\n",
    "P_filtered = P([filtered_pairs,filtered_pairs+n],filtered_pairs);\n",
    "A_filtered = A(filtered_pairs,filtered_pairs);\n",
    "\n",
    "\"\"\""
   ]
  },
  {
   "cell_type": "markdown",
   "id": "d2d7d21a",
   "metadata": {},
   "source": [
    "## Choice of ambiguous loci"
   ]
  },
  {
   "cell_type": "markdown",
   "id": "808373aa",
   "metadata": {},
   "source": [
    "Make a choice of which loci we want to view as ambiguous for the rest of the analysis."
   ]
  },
  {
   "cell_type": "code",
   "execution_count": 62,
   "id": "09737bad",
   "metadata": {},
   "outputs": [],
   "source": [
    "mat\"\"\"\n",
    "\n",
    "ambiguity_quotient = ( nansum(A,2)+nansum(P,1)' ) ./ ( total_contacts );\n",
    "unambiguity_quotient = 1-ambiguity_quotient;\n",
    "plot(filtered_pairs,ambiguity_quotient(filtered_pairs))\n",
    "title('Proportion of contacts where i-th locus is unambiguous')\n",
    "\n",
    "\"\"\""
   ]
  },
  {
   "cell_type": "code",
   "execution_count": 64,
   "id": "6e981e07",
   "metadata": {},
   "outputs": [],
   "source": [
    "mat\"\"\"\n",
    "unambiguity_quotient_sorted = sort(unambiguity_quotient(filtered_pairs));\n",
    "plot(unambiguity_quotient_sorted)\n",
    "title('The i-th smallest unambiguity quotient')\n",
    "xlabel('i')\n",
    "%grid()\n",
    "%xticks(0:10:n_filtered)\n",
    "set(gcf,'renderer','Painters')\n",
    "print(gcf,'-depsc','unambiguity_quotient_sorted')\n",
    "\"\"\""
   ]
  },
  {
   "cell_type": "code",
   "execution_count": 14,
   "id": "a7ca60f7",
   "metadata": {},
   "outputs": [
    {
     "name": "stdout",
     "output_type": "stream",
     "text": [
      "    46\n",
      "\n"
     ]
    }
   ],
   "source": [
    "mat\"\"\"\n",
    "\n",
    "ambiguity_threshold = 0.60;\n",
    "\n",
    "ua_pairs_filtered = find(ambiguity_quotient(filtered_pairs)<ambiguity_threshold);\n",
    "ambig_pairs_filtered = setdiff(1:length(filtered_pairs),ua_pairs_filtered);\n",
    "\n",
    "ua_pairs = filtered_pairs(ua_pairs_filtered);\n",
    "ambig_pairs = filtered_pairs(ambig_pairs_filtered);\n",
    "\n",
    "m_filtered = length(ambig_pairs);\n",
    "m = m_filtered;\n",
    "\n",
    "disp(m)\n",
    "\n",
    "\"\"\""
   ]
  },
  {
   "cell_type": "markdown",
   "id": "80611636",
   "metadata": {},
   "source": [
    "## Make loci completely ambiguous or unambiguous"
   ]
  },
  {
   "cell_type": "markdown",
   "id": "ffffbfde",
   "metadata": {},
   "source": [
    "Adapt the data to equation (2.2) in the paper, folliwing the strategy described in Supporting Material."
   ]
  },
  {
   "cell_type": "code",
   "execution_count": 17,
   "id": "d62f3cec",
   "metadata": {},
   "outputs": [],
   "source": [
    "mat\"\"\"\n",
    "\n",
    "[U_filtered_new,P_filtered_new,A_filtered_new] = preprocess_contacts(U_filtered,P_filtered,A_filtered,ambig_pairs_filtered)\n",
    "\n",
    "\"\"\""
   ]
  },
  {
   "cell_type": "markdown",
   "id": "5ec6071e",
   "metadata": {},
   "source": [
    "## Estimation of unambiguous loci"
   ]
  },
  {
   "cell_type": "code",
   "execution_count": 19,
   "id": "d7a72287",
   "metadata": {
    "scrolled": true
   },
   "outputs": [
    {
     "name": "stdout",
     "output_type": "stream",
     "text": [
      "\n",
      "*************************************************************************************\n",
      "  PPASolver For Symmetric Matrix Problems\n",
      "  rho_target = -7.38e-01\n",
      "  continuation = 1\n",
      "  Newton_alteroption = 0\n",
      "  scale_data = 2, precond = 3\n",
      "  normC = 3.8e+02, normA = 4.3e+02, normb = 3.6e+01\n",
      "  number of initial iterations = 50\n",
      "  sig0 = 1.00e+01,  iter = 50\n",
      "  norm_XZratio = 9.9e+00\n",
      "  orig-normX = 5.5e+02, orig-normZ = 5.6e+00\n",
      "  normX = 5.6e+01, normZ = 5.6e+01\n",
      " ****************************************************************************************************************\n",
      "  it   prim_inf    dual_inf         prim_obj          dual_obj           relgap      time     sigma      rho      rankX    |AltN_iter   AltN_time\n",
      "*****************************************************************************************************************\n",
      "   0  2.7e-02    1.2e-02     -8.9690750e+02    -6.1125586e+02  -3.79e-01   7.4    1.0e+00  7.38e+01    29(I)(I)\n",
      "       good termination:   gradLy=2.24e-02, priminf_sub=6.19e-04, tolsub=1.89e-03(I)(I)(I)(I)(I)(I)(I)\n",
      "       good termination:   gradLy=4.15e-02, priminf_sub=1.15e-03, tolsub=2.07e-03(I)(I)(I)(I)(I)(I)\n",
      "       good termination:   gradLy=2.83e-02, priminf_sub=7.82e-04, tolsub=1.36e-03(I)(I)(I)(I)(I)(I)(I)\n",
      "       good termination:   gradLy=2.76e-02, priminf_sub=7.64e-04, tolsub=8.00e-04(I)(I)(I)(I)(I)\n",
      "       good termination:   gradLy=3.44e-03, priminf_sub=9.53e-05, tolsub=4.30e-04(I)(I)\n",
      "       good termination:   gradLy=5.58e-03, priminf_sub=1.54e-04, tolsub=2.10e-04(I)(I)(I)\n",
      "       good termination:   gradLy=3.79e-04, priminf_sub=1.05e-05, tolsub=1.05e-04(I)(I)(I)\n",
      "       good termination:   gradLy=3.59e-04, priminf_sub=9.95e-06, tolsub=5.27e-05(I)(I)(I)\n",
      "       good termination:   gradLy=1.83e-04, priminf_sub=5.07e-06, tolsub=2.68e-05(I)(I)(I)\n",
      "       good termination:   gradLy=9.33e-05, priminf_sub=2.58e-06, tolsub=1.37e-05(I)(I)(I)\n",
      "       good termination:   gradLy=4.80e-05, priminf_sub=1.33e-06, tolsub=7.01e-06(I)(I)(I)\n",
      "       good termination:   gradLy=2.49e-05, priminf_sub=6.89e-07, tolsub=3.61e-06(I)(I)(I)\n",
      "       good termination:   gradLy=7.31e-06, priminf_sub=2.02e-07, tolsub=1.87e-06(I)(I)(I)\n",
      "       good termination:   gradLy=3.76e-06, priminf_sub=1.04e-07, tolsub=9.71e-07(I)(I)(I)\n",
      "       good termination:   gradLy=6.10e-06, priminf_sub=1.69e-07, tolsub=3.43e-07(I)(I)\n",
      "       max(priminf_sub,dualinf_sub) < 1.00e-06\n",
      "objratio =\n",
      "\n",
      "   21.4312\n",
      "\n",
      "\n",
      "--------------------------------------------------------------------------------\n",
      " max(prim_infeas,dual_infeas) < 1.00e-06\n",
      "--------------------------------------------------------------------------------\n",
      " primal objval = 3.51137259e+02\n",
      " dual   objval = 3.51133014e+02\n",
      " relative gap  = 1.21e-05\n",
      " prim_infeas   = 6.61e-07\n",
      " dual_infeas   = 6.10e-07\n",
      " CPU time      = 35.3\n",
      " number of subproblems = 58.0\n",
      " average number of psqmr step per subproblem = 19.7\n",
      " average number of linesearch per subproblem = 1.2\n",
      " total number of eigenvalue decomposition = 133\n",
      " scaled-norm(X) = 2.8e+01, scaled-norm(y) = 5.6e+01, scaled-norm(Z) = 4.6e+01\n",
      " norm(X) = 6.4e+00,        norm(y) = 5.6e+01,        norm(Z) = 2.0e+02\n",
      "---------------------------------------------------------------------------------------------------------------------------\n",
      "\n",
      "ans =\n",
      "\n",
      "    'Consensus Ratio: 0.748120'\n",
      "\n",
      "refinedistances.m: Iter =  134, objstart = 2.07e+03, objend = 1.81e+03\n",
      "\n",
      "ans =\n",
      "\n",
      "    'alpha:0.500000  error:4852348.269375'\n",
      "\n"
     ]
    }
   ],
   "source": [
    "mat\"\"\"\n",
    "\n",
    "[Xua_filtered,Yua_filtered] = estimate_disambiguated(U_filtered_new,ua_pairs_filtered,...\n",
    "    optimization_method='chromsde',alpha=-2);\n",
    "\n",
    "X_filtered = NaN(3,n_filtered);\n",
    "Y_filtered = NaN(3,n_filtered);\n",
    "\n",
    "X_filtered(:,ua_pairs_filtered)=Xua_filtered;\n",
    "Y_filtered(:,ua_pairs_filtered)=Yua_filtered;\n",
    "\n",
    "plot3(Xua_filtered(1,:),Xua_filtered(2,:),Xua_filtered(3,:),'DisplayName','Inactive homolog')\n",
    "hold on\n",
    "plot3(Yua_filtered(1,:),Yua_filtered(2,:),Yua_filtered(3,:),'DisplayName','Active homolog')\n",
    "hold off\n",
    "\n",
    "\"\"\""
   ]
  },
  {
   "cell_type": "code",
   "execution_count": 20,
   "id": "3aaab90d",
   "metadata": {},
   "outputs": [],
   "source": [
    "mat\"\"\"\n",
    "\n",
    "title_str = strcat(\"ChromSDE estimation\");\n",
    "title(title_str)\n",
    "\n",
    "legend('Location','southoutside','NumColumns',2)\n",
    "\n",
    "\"\"\""
   ]
  },
  {
   "cell_type": "markdown",
   "id": "472bb1b9",
   "metadata": {},
   "source": [
    "## Estimation of ambiguous loci using NAG"
   ]
  },
  {
   "cell_type": "code",
   "execution_count": 21,
   "id": "eb83d85c",
   "metadata": {},
   "outputs": [],
   "source": [
    "mat\"\"\"\n",
    "\n",
    "$Zua_filtered = [Xua_filtered,Yua_filtered];\n",
    "$Pred_filtered = P_filtered_new([ua_pairs_filtered,ua_pairs_filtered+n_filtered],...\n",
    "    ambig_pairs_filtered);\n",
    "\n",
    "\"\"\""
   ]
  },
  {
   "cell_type": "code",
   "execution_count": 22,
   "id": "db450937",
   "metadata": {
    "scrolled": true
   },
   "outputs": [
    {
     "name": "stdout",
     "output_type": "stream",
     "text": [
      "\u001b[32mTracking 40 paths... 100%|██████████████████████████████| Time: 0:00:00\u001b[39m\n",
      "\u001b[34m  # paths tracked:                  40\u001b[39m\n",
      "\u001b[34m  # non-singular solutions (real):  40 (0)\u001b[39m\n",
      "\u001b[34m  # singular endpoints (real):      0 (0)\u001b[39m\n",
      "\u001b[34m  # total solutions (real):         40 (0)\u001b[39m\n",
      "Locus: 30 of 46\n",
      "Locus: 31 of 46\n",
      "Locus: 32 of 46\n",
      "Locus: 33 of 46\n",
      "Locus: 34 of 46\n",
      "Locus: 35 of 46\n",
      "Locus: 36 of 46\n",
      "Locus: 37 of 46\n",
      "Locus: 38 of 46\n",
      "Locus: 39 of 46\n",
      "Locus: 40 of 46\n",
      "Locus: 41 of 46\n",
      "Locus: 42 of 46\n",
      "Locus: 43 of 46\n",
      "Locus: 44 of 46\n",
      "Locus: 45 of 46\n",
      "Locus: 46 of 46\n"
     ]
    }
   ],
   "source": [
    "@nbinclude(\"NAG_code.ipynb\")\n",
    "Xhtpy_ambig_filtered, Yhtpy_ambig_filtered, T, attempts, ua_choices, minimal_distances = estimate_ambig_htpy(Pred_filtered,Zua_filtered,5,number_of_contacts=20,max_attempts=100,imag_part_threshold=0.15);"
   ]
  },
  {
   "cell_type": "code",
   "execution_count": 23,
   "id": "8212ac67",
   "metadata": {
    "scrolled": true
   },
   "outputs": [
    {
     "data": {
      "text/plain": [
       "5×46 Matrix{Int64}:\n",
       " 8  6  2  5  4  2  2  1  6  1  4  1  …  2  3   1  5  3  1  4  2  3  1  3  3\n",
       " 7  1  1  1  2  2  4  1  2  1  3  1     2  2   8  3  3  3  3  1  3  3  2  1\n",
       " 6  1  2  3  1  3  4  5  3  3  1  3     2  2  12  1  1  2  1  1  2  1  1  1\n",
       " 7  1  2  5  1  1  2  5  8  6  1  1     5  1   2  4  1  1  1  1  5  4  2  1\n",
       " 1  2  1  1  1  3  5  3  1  6  6  2     1  2   1  1  1  2  2  4  3  2  1  1"
      ]
     },
     "metadata": {},
     "output_type": "display_data"
    },
    {
     "data": {
      "text/plain": [
       "12"
      ]
     },
     "metadata": {},
     "output_type": "display_data"
    },
    {
     "data": {
      "text/plain": [
       "90.02600002288818"
      ]
     },
     "metadata": {},
     "output_type": "display_data"
    },
    {
     "data": {
      "text/plain": [
       "46-element Vector{Float64}:\n",
       " 0.2214350481860813\n",
       " 0.24750091819660983\n",
       " 0.10000325682346871\n",
       " 0.05986660649575022\n",
       " 0.09554876904569978\n",
       " 0.1550348061812129\n",
       " 0.13041743003879103\n",
       " 0.15262613984070547\n",
       " 0.18676070926587574\n",
       " 0.11479141737227187\n",
       " 0.07226891955071763\n",
       " 0.10938940312978138\n",
       " 0.04593320359211021\n",
       " ⋮\n",
       " 0.09466448770388344\n",
       " 0.1615805577442241\n",
       " 0.16425523918130489\n",
       " 0.10699589495979796\n",
       " 0.14215611003038667\n",
       " 0.06072454879705515\n",
       " 0.08295878919799105\n",
       " 0.07433412528851416\n",
       " 0.13423988879672938\n",
       " 0.16889809207880574\n",
       " 0.1562522538766635\n",
       " 0.10239634903868614"
      ]
     },
     "metadata": {},
     "output_type": "display_data"
    }
   ],
   "source": [
    "display(attempts)\n",
    "display(maximum(attempts))\n",
    "display(T)\n",
    "display(minimal_distances)"
   ]
  },
  {
   "cell_type": "code",
   "execution_count": 24,
   "id": "9f641002",
   "metadata": {},
   "outputs": [],
   "source": [
    "mat\"\"\"\n",
    "\n",
    "Xhtpy_ambig_filtered = $Xhtpy_ambig_filtered;\n",
    "Yhtpy_ambig_filtered = $Yhtpy_ambig_filtered;\n",
    "\n",
    "Xhtpy_filtered = zeros(3,n_filtered);\n",
    "Xhtpy_filtered(:,ua_pairs_filtered) = Xua_filtered;\n",
    "Xhtpy_filtered(:,ambig_pairs_filtered) = Xhtpy_ambig_filtered;\n",
    "\n",
    "Yhtpy_filtered = zeros(3,n_filtered);\n",
    "Yhtpy_filtered(:,ua_pairs_filtered) = Yua_filtered;\n",
    "Yhtpy_filtered(:,ambig_pairs_filtered) = Yhtpy_ambig_filtered;\n",
    "\n",
    "\"\"\""
   ]
  },
  {
   "cell_type": "code",
   "execution_count": 25,
   "id": "dfa0b7d1",
   "metadata": {},
   "outputs": [],
   "source": [
    "mat\"\"\"\n",
    "\n",
    "plot3(Xhtpy_filtered(1,:),Xhtpy_filtered(2,:),Xhtpy_filtered(3,:),'b','DisplayName','X')\n",
    "hold on\n",
    "plot3(Yhtpy_filtered(1,:),Yhtpy_filtered(2,:),Yhtpy_filtered(3,:),'r','DisplayName','Y')\n",
    "plot(NaN,NaN,'*','color','k','DisplayName','Ambiguous')\n",
    "legend('AutoUpdate','off','Location','southoutside','NumColumns',3)\n",
    "plot3(Xhtpy_filtered(1,ambig_pairs_filtered),Xhtpy_filtered(2,ambig_pairs_filtered),Xhtpy_filtered(3,ambig_pairs_filtered),'*','color','b')\n",
    "plot3(Yhtpy_filtered(1,ambig_pairs_filtered),Yhtpy_filtered(2,ambig_pairs_filtered),Yhtpy_filtered(3,ambig_pairs_filtered),'*','color','r')\n",
    "hold off\n",
    "\n",
    "\"\"\""
   ]
  },
  {
   "cell_type": "markdown",
   "id": "b37c69f7",
   "metadata": {},
   "source": [
    "## Additional local optimization step"
   ]
  },
  {
   "cell_type": "code",
   "execution_count": 26,
   "id": "d4683c1f",
   "metadata": {},
   "outputs": [
    {
     "name": "stdout",
     "output_type": "stream",
     "text": [
      "\n",
      "Local minimum found.\n",
      "\n",
      "Optimization completed because the size of the gradient is less than\n",
      "the value of the optimality tolerance.\n",
      "\n",
      "The following pairs were switched: 1   49   50   77   92   93  115  125  129  134  135  141  142  148  149  150  153  156  169  176  187  188  190  191  195  208  221  256 .\n"
     ]
    }
   ],
   "source": [
    "mat\"\"\"\n",
    "\n",
    "[Xesthtpy_filtered,Yesthtpy_filtered,T,fvalbest,exitflagbest,outputbest,gradbest] = estimate_ambig(...\n",
    "    Xua_filtered,Yua_filtered,ua_pairs_filtered,P_filtered_new,...\n",
    "    num_initializations=1,initialization_factor=0.0,Xstart=Xhtpy_filtered,Ystart=Yhtpy_filtered,clustering_step=true);\n",
    "\n",
    "\"\"\""
   ]
  },
  {
   "cell_type": "code",
   "execution_count": 37,
   "id": "f60a95d9",
   "metadata": {},
   "outputs": [
    {
     "name": "stdout",
     "output_type": "stream",
     "text": [
      "  295.3663\n",
      "\n"
     ]
    }
   ],
   "source": [
    "mat\"\"\"\n",
    "\n",
    "disp(T)\n",
    "disp(outputbest)\n",
    "\n",
    "\"\"\""
   ]
  },
  {
   "cell_type": "code",
   "execution_count": 41,
   "id": "b8d39fa0",
   "metadata": {},
   "outputs": [],
   "source": [
    "mat\"\"\"\n",
    "\n",
    "Xesthtpy = NaN(3,n);\n",
    "Yesthtpy = NaN(3,n);\n",
    "\n",
    "Xesthtpy(:,filtered_pairs) = Xesthtpy_filtered;\n",
    "Yesthtpy(:,filtered_pairs) = Yesthtpy_filtered;\n",
    "\n",
    "\"\"\""
   ]
  },
  {
   "cell_type": "code",
   "execution_count": 43,
   "id": "7adeeb98",
   "metadata": {},
   "outputs": [],
   "source": [
    "mat\"\"\"\n",
    "\n",
    "close all\n",
    "plot3(Xesthtpy(1,:),Xesthtpy(2,:),Xesthtpy(3,:),'Color','#0072BD','DisplayName','Inactive homolog')\n",
    "hold on\n",
    "plot3(Yesthtpy(1,:),Yesthtpy(2,:),Yesthtpy(3,:),'Color','#D95319','DisplayName','Active homolog')\n",
    "\n",
    "plot(NaN,NaN,'*','color','k','DisplayName','Ambiguous')\n",
    "legend('AutoUpdate','off','Location','southoutside','NumColumns',3)\n",
    "\n",
    "plot3(Xesthtpy(1,ambig_pairs),Xesthtpy(2,ambig_pairs),Xesthtpy(3,ambig_pairs),'*','color','#0072BD')\n",
    "plot3(Yesthtpy(1,ambig_pairs),Yesthtpy(2,ambig_pairs),Yesthtpy(3,ambig_pairs),'*','color','#D95319')\n",
    "\n",
    "plot3(Xesthtpy_filtered(1,:),Xesthtpy_filtered(2,:),Xesthtpy_filtered(3,:),'Color','#0072BD','Linestyle','--')\n",
    "plot3(Yesthtpy_filtered(1,:),Yesthtpy_filtered(2,:),Yesthtpy_filtered(3,:),'Color','#D95319','Linestyle','--')\n",
    "\n",
    "hold off\n",
    "title_str = strcat(\"NAG+local, Objective function = \",num2str(fvalbest,'%e'));\n",
    "view(0,90)\n",
    "\n",
    "\"\"\""
   ]
  },
  {
   "cell_type": "code",
   "execution_count": 44,
   "id": "7f39c3f9",
   "metadata": {},
   "outputs": [],
   "source": [
    "mat\"\"\"\n",
    "\n",
    "set(gcf,'renderer','Painters')\n",
    "print(gcf,'-depsc','real-data-nag-local')\n",
    "\n",
    "\"\"\""
   ]
  },
  {
   "cell_type": "markdown",
   "id": "ae1ff784",
   "metadata": {},
   "source": [
    "# Bipartite index"
   ]
  },
  {
   "cell_type": "code",
   "execution_count": 52,
   "id": "a6fd5712",
   "metadata": {},
   "outputs": [
    {
     "data": {
      "text/plain": [
       "1×296 Matrix{Float64}:\n",
       " 2.51388  1.3376  3.16321  8.21006  …  4.04061  3.40994  1.82957  Inf"
      ]
     },
     "execution_count": 52,
     "metadata": {},
     "output_type": "execute_result"
    }
   ],
   "source": [
    "mat\"\"\"\n",
    "\n",
    "close all\n",
    "BI_diagram(Xesthtpy_filtered,Yesthtpy_filtered,alpha=-2,indices=filtered_pairs,Xname='Inactive homolog',Yname='Active homolog');\n",
    "legend('AutoUpdate','off','Location','southeast');\n",
    "hold on;\n",
    "xline(146,'--');\n",
    "hold off;\n",
    "title(\"\")\n",
    "\n",
    "\"\"\""
   ]
  },
  {
   "cell_type": "code",
   "execution_count": 65,
   "id": "369ca834",
   "metadata": {},
   "outputs": [],
   "source": [
    "mat\"\"\"\n",
    "\n",
    "set(gcf,'renderer','Painters')\n",
    "print(gcf,'-depsc','bi_index')\n",
    "\n",
    "\"\"\""
   ]
  },
  {
   "cell_type": "markdown",
   "id": "c79d7349",
   "metadata": {},
   "source": [
    "# Contact count matrices"
   ]
  },
  {
   "cell_type": "code",
   "execution_count": 57,
   "id": "5c62436b",
   "metadata": {},
   "outputs": [],
   "source": [
    "mat\"\"\"\n",
    "\n",
    "Ared = A_filtered_new(ambig_pairs_filtered,ambig_pairs_filtered);\n",
    "\n",
    "for i=1:length(ambig_pairs)\n",
    "    Ared(i,i)=Inf;\n",
    "end;\n",
    "\n",
    "Ared_estimated = zeros(length(ambig_pairs_filtered),length(ambig_pairs_filtered));\n",
    "\n",
    "for i=1:length(ambig_pairs_filtered)\n",
    "    for j=1:length(ambig_pairs_filtered)\n",
    "        Ared_estimated(i,j) = 1/norm(Xambig_estimated(:,i)-Xambig_estimated(:,j))^2 + 1/norm(Xambig_estimated(:,i)-Yambig_estimated(:,j))^2 + ...\n",
    "            1/norm(Yambig_estimated(:,i)-Xambig_estimated(:,j))^2 + 1/norm(Yambig_estimated(:,i)-Yambig_estimated(:,j))^2;\n",
    "    end\n",
    "end\n",
    "\n",
    "imagesc(log10(Ared));\n",
    "title(\"Patski data\")\n",
    "colormap(flipud(gray))\n",
    "caxis([0,3])\n",
    "colorbar\n",
    "set(gcf,'renderer','Painters')\n",
    "print(gcf,'-depsc','real_A')\n",
    "\n",
    "imagesc(log10(Ared_estimated));\n",
    "title(\"SNLC reconstruction\")\n",
    "colormap(flipud(gray))\n",
    "caxis([0,3])\n",
    "colorbar\n",
    "set(gcf,'renderer','Painters')\n",
    "print(gcf,'-depsc','reconstructed_A')\n",
    "\"\"\"\n",
    "\n"
   ]
  },
  {
   "cell_type": "code",
   "execution_count": 55,
   "id": "f81a55de",
   "metadata": {},
   "outputs": [],
   "source": [
    "mat\"\"\"\n",
    "\n",
    "Pred = P_filtered_new([ua_pairs_filtered,n_filtered+ua_pairs_filtered],ambig_pairs_filtered);\n",
    "imagesc(log10(Pred));\n",
    "title(\"Patski data\")\n",
    "colormap(flipud(gray))\n",
    "colorbar\n",
    "set(gcf,'renderer','Painters')\n",
    "print(gcf,'-depsc','real_P')\n",
    "\n",
    "Pred_estimated = zeros(2*length(ua_pairs_filtered),length(ambig_pairs_filtered));\n",
    "\n",
    "Zua_estimated = [Xesthtpy_filtered(:,ua_pairs_filtered),Yesthtpy_filtered(:,ua_pairs_filtered)];\n",
    "Xambig_estimated = Xesthtpy_filtered(:,ambig_pairs_filtered);\n",
    "Yambig_estimated = Yesthtpy_filtered(:,ambig_pairs_filtered);\n",
    "\n",
    "for i=1:2*length(ua_pairs_filtered)\n",
    "    for j=1:length(ambig_pairs_filtered)\n",
    "        Pred_estimated(i,j) = 1/norm(Zua_estimated(:,i)-Xambig_estimated(:,j))^2 + 1/norm(Zua_estimated(:,i)-Yambig_estimated(:,j))^2;\n",
    "    end\n",
    "end\n",
    "\n",
    "imagesc(log10(Pred));\n",
    "title(\"Patski data\")\n",
    "colormap(flipud(gray))\n",
    "caxis([0,3.5])\n",
    "colorbar\n",
    "set(gcf,'renderer','Painters')\n",
    "print(gcf,'-depsc','real_P')\n",
    "\n",
    "imagesc(log10(Pred_estimated));\n",
    "title(\"SNLC reconstruction\")\n",
    "colormap(flipud(gray))\n",
    "caxis([0,3.5])\n",
    "colorbar\n",
    "set(gcf,'renderer','Painters')\n",
    "print(gcf,'-depsc','reconstructed_P')\n",
    "\n",
    "imagesc(log10(Pred_estimated));\n",
    "title(\"SNLC reconstruction\")\n",
    "colormap(flipud(gray))\n",
    "caxis([0,3.5])\n",
    "colorbar\n",
    "\"\"\"\n"
   ]
  },
  {
   "cell_type": "code",
   "execution_count": 58,
   "id": "29ed128c",
   "metadata": {},
   "outputs": [],
   "source": [
    "mat\"\"\"\n",
    "\n",
    "Ured = U_filtered_new([ua_pairs_filtered,ua_pairs_filtered+n_filtered],[ua_pairs_filtered,ua_pairs_filtered+n_filtered]);\n",
    "\n",
    "for i=1:2*length(ua_pairs_filtered)\n",
    "    Ured(i,i)=Inf;\n",
    "end\n",
    "\n",
    "Ured_estimated = zeros(2*length(ua_pairs_filtered),2*length(ua_pairs_filtered));\n",
    "\n",
    "for i=1:2*length(ua_pairs_filtered)\n",
    "    for j=1:2*length(ua_pairs_filtered)\n",
    "        Ured_estimated(i,j) = 1/norm(Zua_estimated(:,i)-Zua_estimated(:,j))^2;\n",
    "    end\n",
    "end\n",
    "\n",
    "imagesc(log10(Ured));\n",
    "title(\"Patski data\")\n",
    "colormap(flipud(gray))\n",
    "caxis([0,3.5])\n",
    "colorbar\n",
    "set(gcf,'renderer','Painters')\n",
    "print(gcf,'-depsc','real_U')\n",
    "\n",
    "\n",
    "imagesc(log10(Ured_estimated));\n",
    "title(\"SNLC reconstruction\")\n",
    "colormap(flipud(gray))\n",
    "caxis([0,3.5])\n",
    "colorbar\n",
    "set(gcf,'renderer','Painters')\n",
    "print(gcf,'-depsc','reconstructed_U')\n",
    "\n",
    "\"\"\"\n",
    "\n"
   ]
  }
 ],
 "metadata": {
  "kernelspec": {
   "display_name": "Julia 1.6.1",
   "language": "julia",
   "name": "julia-1.6"
  },
  "language_info": {
   "file_extension": ".jl",
   "mimetype": "application/julia",
   "name": "julia",
   "version": "1.6.1"
  }
 },
 "nbformat": 4,
 "nbformat_minor": 5
}
